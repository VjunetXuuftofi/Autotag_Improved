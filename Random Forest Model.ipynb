{
 "cells": [
  {
   "cell_type": "code",
   "execution_count": 2,
   "metadata": {
    "collapsed": true
   },
   "outputs": [],
   "source": [
    "import pickle\n",
    "from sklearn.preprocessing import StandardScaler\n",
    "import numpy as np\n",
    "from scipy.stats import describe\n",
    "import matplotlib.pyplot as plt\n",
    "from sklearn.metrics import precision_recall_curve\n",
    "from time import time\n",
    "from sklearn.preprocessing import OneHotEncoder\n",
    "from sklearn.decomposition import TruncatedSVD\n",
    "import scipy\n",
    "from sklearn.ensemble import RandomForestClassifier\n",
    "from sklearn.metrics import accuracy_score, roc_auc_score\n",
    "from sklearn.model_selection import GridSearchCV, RandomizedSearchCV\n",
    "from sklearn.metrics import make_scorer\n",
    "#from dask_searchcv import GridSearchCV\n",
    "from scipy.stats.distributions import norm\n",
    "import math\n",
    "%matplotlib inline"
   ]
  },
  {
   "cell_type": "code",
   "execution_count": 3,
   "metadata": {
    "collapsed": true
   },
   "outputs": [],
   "source": [
    "data = pickle.load(open(\"processed_data.pkl\", \"rb\"))"
   ]
  },
  {
   "cell_type": "code",
   "execution_count": 4,
   "metadata": {
    "collapsed": true
   },
   "outputs": [],
   "source": [
    "possible_tags = pickle.load(open(\"possible_tags.pkl\", \"rb\"))"
   ]
  },
  {
   "cell_type": "code",
   "execution_count": 5,
   "metadata": {
    "collapsed": true
   },
   "outputs": [],
   "source": [
    "base = data[\"base\"]\n",
    "labels = data[\"tags\"]\n",
    "use = data[\"use\"]\n",
    "description = data[\"description\"]"
   ]
  },
  {
   "cell_type": "code",
   "execution_count": 6,
   "metadata": {
    "collapsed": true
   },
   "outputs": [],
   "source": [
    "base_sparse = scipy.sparse.csr_matrix(base)"
   ]
  },
  {
   "cell_type": "code",
   "execution_count": 7,
   "metadata": {
    "collapsed": true
   },
   "outputs": [],
   "source": [
    "combined = scipy.sparse.csr_matrix(scipy.sparse.hstack((base_sparse, use, description)))"
   ]
  },
  {
   "cell_type": "code",
   "execution_count": 8,
   "metadata": {
    "collapsed": true
   },
   "outputs": [],
   "source": [
    "num_datapoints = combined.shape[0]\n",
    "test_cutoff = int(num_datapoints * 0.8)\n",
    "val_cutoff = int(test_cutoff * 0.8)\n",
    "\n",
    "combined_train, combined_test = combined[:test_cutoff], combined[test_cutoff:]\n",
    "combined_train, combined_val = combined_train[:val_cutoff], combined_train[val_cutoff:]\n",
    "\n",
    "labels_train, labels_test = labels[:test_cutoff], labels[test_cutoff:]\n",
    "labels_train, labels_val = labels_train[:val_cutoff], labels_train[val_cutoff:]"
   ]
  },
  {
   "cell_type": "code",
   "execution_count": 9,
   "metadata": {
    "collapsed": false
   },
   "outputs": [
    {
     "name": "stdout",
     "output_type": "stream",
     "text": [
      "12313\n"
     ]
    }
   ],
   "source": [
    "print(len(labels_val))"
   ]
  },
  {
   "cell_type": "code",
   "execution_count": 10,
   "metadata": {
    "collapsed": true
   },
   "outputs": [],
   "source": [
    "# 99.9 - 0.99955828617\n",
    "# 99.5 - 0.9962458641\n",
    "# 99 - 0.99175748541\n",
    "# 98 - 0.98247287501\n",
    "# 97 - 0.97301314912\n",
    "# 96 - 0.96346130399\n",
    "# 95 - 0.95384964725\n",
    "def max_recall_score(labels, predictions, p_threshold=0.99175748541):\n",
    "    predictions = np.array(predictions)\n",
    "    total = 0.\n",
    "    amounts = 0.\n",
    "    for tag in range(25):\n",
    "        precision, recall, thresholds = precision_recall_curve(labels[:,tag], predictions[tag,:,1])\n",
    "        amount = sum(labels[:,tag])\n",
    "        amounts += amount\n",
    "        for i, p in enumerate(precision):\n",
    "            if p > p_threshold:\n",
    "                print(\"Recall for \", possible_tags[tag], recall[i])\n",
    "                print(\"Threshold:\", thresholds[i-1])\n",
    "                total += recall[i] * amount\n",
    "                break\n",
    "    return total/amounts"
   ]
  },
  {
   "cell_type": "code",
   "execution_count": 11,
   "metadata": {
    "collapsed": false
   },
   "outputs": [],
   "source": [
    "# param_grid = {\n",
    "#         \"n_estimators\": [640, 320, 160, 80, 40, 20, 10],\n",
    "#    \"max_features\": [None, \"sqrt\", \"log2\"],\n",
    "#         \"max_depth\": [None, 64, 32, 16, 8, 4, 2],\n",
    "#         \"min_samples_split\": [2, 4, 8, 16, 32, 64, 128],\n",
    "# }\n",
    "    \n",
    "clf = RandomForestClassifier(class_weight=\"balanced\", verbose=3, n_estimators=80, n_jobs=-1, min_samples_split=16,\n",
    "                            max_features=0.5, min_impurity_split=1e-06)\n",
    "# clf = GridSearchCV(clf, param_grid, n_jobs=-1, verbose=3,\n",
    "#                    scoring=make_scorer(max_recall_score, needs_proba=True), refit=True)\n",
    "# n_estimators=80: 0.226512852808"
   ]
  },
  {
   "cell_type": "code",
   "execution_count": 12,
   "metadata": {
    "collapsed": false
   },
   "outputs": [
    {
     "name": "stdout",
     "output_type": "stream",
     "text": [
      "building tree 1 of 80building tree 3 of 80\n",
      "building tree 5 of 80building tree 2 of 80building tree 8 of 80building tree 4 of 80building tree 6 of 80building tree 7 of 80\n",
      "\n",
      "\n",
      "\n",
      "\n",
      "\n",
      "\n",
      "building tree 9 of 80\n",
      "building tree 10 of 80\n",
      "building tree 11 of 80\n",
      "building tree 12 of 80\n",
      "building tree 13 of 80\n",
      "building tree 14 of 80\n",
      "building tree 15 of 80\n",
      "building tree 16 of 80\n",
      "building tree 17 of 80\n",
      "building tree 18 of 80\n",
      "building tree 19 of 80\n",
      "building tree 20 of 80\n",
      "building tree 21 of 80\n",
      "building tree 22 of 80\n",
      "building tree 23 of 80\n"
     ]
    },
    {
     "name": "stderr",
     "output_type": "stream",
     "text": [
      "[Parallel(n_jobs=-1)]: Done  16 tasks      | elapsed: 11.1min\n"
     ]
    },
    {
     "name": "stdout",
     "output_type": "stream",
     "text": [
      "building tree 24 of 80\n",
      "building tree 25 of 80\n",
      "building tree 26 of 80\n",
      "building tree 27 of 80\n",
      "building tree 28 of 80\n",
      "building tree 29 of 80\n",
      "building tree 30 of 80\n",
      "building tree 31 of 80\n",
      "building tree 32 of 80\n",
      "building tree 33 of 80\n",
      "building tree 34 of 80\n",
      "building tree 35 of 80\n",
      "building tree 36 of 80\n",
      "building tree 37 of 80\n",
      "building tree 38 of 80\n",
      "building tree 39 of 80\n",
      "building tree 40 of 80\n",
      "building tree 41 of 80\n",
      "building tree 42 of 80\n",
      "building tree 43 of 80\n",
      "building tree 44 of 80\n",
      "building tree 45 of 80\n",
      "building tree 46 of 80\n",
      "building tree 47 of 80\n",
      "building tree 48 of 80\n",
      "building tree 49 of 80\n",
      "building tree 50 of 80\n",
      "building tree 51 of 80\n",
      "building tree 52 of 80\n",
      "building tree 53 of 80\n",
      "building tree 54 of 80\n",
      "building tree 55 of 80\n",
      "building tree 56 of 80\n",
      "building tree 57 of 80\n",
      "building tree 58 of 80\n",
      "building tree 59 of 80\n",
      "building tree 60 of 80\n",
      "building tree 61 of 80\n",
      "building tree 62 of 80\n",
      "building tree 63 of 80\n",
      "building tree 64 of 80\n",
      "building tree 65 of 80\n",
      "building tree 66 of 80\n",
      "building tree 67 of 80\n",
      "building tree 68 of 80\n",
      "building tree 69 of 80\n",
      "building tree 70 of 80\n",
      "building tree 71 of 80\n",
      "building tree 72 of 80\n",
      "building tree 73 of 80\n",
      "building tree 74 of 80\n",
      "building tree 75 of 80\n",
      "building tree 76 of 80\n",
      "building tree 77 of 80\n",
      "building tree 78 of 80\n",
      "building tree 79 of 80\n",
      "building tree 80 of 80\n"
     ]
    },
    {
     "name": "stderr",
     "output_type": "stream",
     "text": [
      "[Parallel(n_jobs=-1)]: Done  80 out of  80 | elapsed: 53.7min finished\n",
      "[Parallel(n_jobs=8)]: Done  16 tasks      | elapsed:    0.3s\n",
      "[Parallel(n_jobs=8)]: Done  80 out of  80 | elapsed:    1.2s finished\n"
     ]
    },
    {
     "name": "stdout",
     "output_type": "stream",
     "text": [
      "Recall for  #Animals 0.664036817883\n",
      "Threshold: 0.854020455376\n",
      "Recall for  #Biz Durable Asset 0.052027027027\n",
      "Threshold: 0.957610512277\n",
      "Recall for  #Eco-friendly 0.788346613546\n",
      "Threshold: 0.767409633486\n",
      "Recall for  #Elderly 0.00162866449511\n",
      "Threshold: 0.949444878294\n",
      "Recall for  #Fabrics 0.421052631579\n",
      "Threshold: 0.922523241543\n",
      "Recall for  #Female Education 0.264516129032\n",
      "Threshold: 0.926938545125\n",
      "Recall for  #First Loan 0.0954274353877\n",
      "Threshold: 0.899643336058\n",
      "Recall for  #Health and Sanitation 0.462277091907\n",
      "Threshold: 0.986815761279\n",
      "Recall for  #Job Creator 0.00677200902935\n",
      "Threshold: 0.909542715066\n",
      "Recall for  #Orphan 0.0625\n",
      "Threshold: 0.532634637233\n",
      "Recall for  #Parent 0.00881735479356\n",
      "Threshold: 0.999437498014\n",
      "Recall for  #Refugee 0.0704225352113\n",
      "Threshold: 0.809619724079\n",
      "Recall for  #Repair Renew Replace 0.0117540687161\n",
      "Threshold: 0.989470840254\n",
      "Recall for  #Repeat Borrower 0.00678294573643\n",
      "Threshold: 0.999798816978\n",
      "Recall for  #Schooling 0.454659161976\n",
      "Threshold: 0.882157576409\n",
      "Recall for  #Single 0.0519031141869\n",
      "Threshold: 0.92006953226\n",
      "Recall for  #Single Parent 0.0248447204969\n",
      "Threshold: 0.812941508393\n",
      "Recall for  #Supporting Family 0.0173010380623\n",
      "Threshold: 0.911474023511\n",
      "Recall for  #Sustainable Ag 0.785340314136\n",
      "Threshold: 0.594920515419\n",
      "Recall for  #Technology 0.771507226428\n",
      "Threshold: 0.818951738461\n",
      "Recall for  #Trees 0.0239726027397\n",
      "Threshold: 0.840159623542\n",
      "Recall for  #Unique 0.0363636363636\n",
      "Threshold: 0.632533996237\n",
      "Recall for  #Vegan 0.0346481876333\n",
      "Threshold: 0.994030985086\n",
      "Recall for  #Widowed 0.0412844036697\n",
      "Threshold: 0.92268011814\n",
      "Recall for  #Woman Owned Biz 0.249955460538\n",
      "Threshold: 0.946150983141\n",
      "0.219184748383\n"
     ]
    }
   ],
   "source": [
    "clf.fit(combined_train, labels_train)\n",
    "print(max_recall_score(labels_val, clf.predict_proba(combined_val)))"
   ]
  },
  {
   "cell_type": "code",
   "execution_count": 13,
   "metadata": {
    "collapsed": false
   },
   "outputs": [
    {
     "name": "stderr",
     "output_type": "stream",
     "text": [
      "[Parallel(n_jobs=8)]: Done  16 tasks      | elapsed:    0.3s\n",
      "[Parallel(n_jobs=8)]: Done  80 out of  80 | elapsed:    1.2s finished\n"
     ]
    },
    {
     "name": "stdout",
     "output_type": "stream",
     "text": [
      "Recall for  #Animals 0.664036817883\n",
      "Threshold: 0.854020455376\n",
      "Recall for  #Biz Durable Asset 0.052027027027\n",
      "Threshold: 0.957610512277\n",
      "Recall for  #Eco-friendly 0.788346613546\n",
      "Threshold: 0.767409633486\n",
      "Recall for  #Elderly 0.00162866449511\n",
      "Threshold: 0.949444878294\n",
      "Recall for  #Fabrics 0.421052631579\n",
      "Threshold: 0.922523241543\n",
      "Recall for  #Female Education 0.264516129032\n",
      "Threshold: 0.926938545125\n",
      "Recall for  #First Loan 0.0954274353877\n",
      "Threshold: 0.899643336058\n",
      "Recall for  #Health and Sanitation 0.462277091907\n",
      "Threshold: 0.986815761279\n",
      "Recall for  #Job Creator 0.00677200902935\n",
      "Threshold: 0.909542715066\n",
      "Recall for  #Orphan 0.0625\n",
      "Threshold: 0.532634637233\n",
      "Recall for  #Parent 0.00881735479356\n",
      "Threshold: 0.999437498014\n",
      "Recall for  #Refugee 0.0704225352113\n",
      "Threshold: 0.809619724079\n",
      "Recall for  #Repair Renew Replace 0.0117540687161\n",
      "Threshold: 0.989470840254\n",
      "Recall for  #Repeat Borrower 0.00678294573643\n",
      "Threshold: 0.999798816978\n",
      "Recall for  #Schooling 0.454659161976\n",
      "Threshold: 0.882157576409\n",
      "Recall for  #Single 0.0519031141869\n",
      "Threshold: 0.92006953226\n",
      "Recall for  #Single Parent 0.0248447204969\n",
      "Threshold: 0.812941508393\n",
      "Recall for  #Supporting Family 0.0173010380623\n",
      "Threshold: 0.911474023511\n",
      "Recall for  #Sustainable Ag 0.785340314136\n",
      "Threshold: 0.594920515419\n",
      "Recall for  #Technology 0.771507226428\n",
      "Threshold: 0.818951738461\n",
      "Recall for  #Trees 0.0239726027397\n",
      "Threshold: 0.840159623542\n",
      "Recall for  #Unique 0.0363636363636\n",
      "Threshold: 0.632533996237\n",
      "Recall for  #Vegan 0.0346481876333\n",
      "Threshold: 0.994030985086\n",
      "Recall for  #Widowed 0.0412844036697\n",
      "Threshold: 0.92268011814\n",
      "Recall for  #Woman Owned Biz 0.249955460538\n",
      "Threshold: 0.946150983141\n",
      "0.219184748383\n"
     ]
    }
   ],
   "source": [
    "print(max_recall_score(labels_val, clf.predict_proba(combined_val)))\n",
    "# 0.215005438828"
   ]
  },
  {
   "cell_type": "code",
   "execution_count": 14,
   "metadata": {
    "collapsed": false
   },
   "outputs": [
    {
     "name": "stderr",
     "output_type": "stream",
     "text": [
      "[Parallel(n_jobs=8)]: Done  16 tasks      | elapsed:    0.4s\n",
      "[Parallel(n_jobs=8)]: Done  80 out of  80 | elapsed:    1.6s finished\n"
     ]
    }
   ],
   "source": [
    "predictions_soft = clf.predict_proba(combined_test)"
   ]
  },
  {
   "cell_type": "code",
   "execution_count": 13,
   "metadata": {
    "collapsed": false
   },
   "outputs": [
    {
     "name": "stdout",
     "output_type": "stream",
     "text": [
      "[array([[ 0.07408244,  0.92591756],\n",
      "       [ 0.15491762,  0.84508238],\n",
      "       [ 0.96185556,  0.03814444],\n",
      "       ..., \n",
      "       [ 0.13201383,  0.86798617],\n",
      "       [ 0.13201383,  0.86798617],\n",
      "       [ 0.09551404,  0.90448596]]), array([[ 0.63793071,  0.36206929],\n",
      "       [ 0.59587106,  0.40412894],\n",
      "       [ 0.92504742,  0.07495258],\n",
      "       ..., \n",
      "       [ 0.79926695,  0.20073305],\n",
      "       [ 0.79926695,  0.20073305],\n",
      "       [ 0.75730473,  0.24269527]]), array([[ 0.99268756,  0.00731244],\n",
      "       [ 0.99761637,  0.00238363],\n",
      "       [ 0.95503489,  0.04496511],\n",
      "       ..., \n",
      "       [ 0.99193874,  0.00806126],\n",
      "       [ 0.99193874,  0.00806126],\n",
      "       [ 0.99178471,  0.00821529]]), array([[ 0.78837459,  0.21162541],\n",
      "       [ 0.66982862,  0.33017138],\n",
      "       [ 0.78057393,  0.21942607],\n",
      "       ..., \n",
      "       [ 0.77628483,  0.22371517],\n",
      "       [ 0.77628483,  0.22371517],\n",
      "       [ 0.80947638,  0.19052362]]), array([[  1.00000000e+00,   0.00000000e+00],\n",
      "       [  9.99928333e-01,   7.16665967e-05],\n",
      "       [  9.62004025e-01,   3.79959752e-02],\n",
      "       ..., \n",
      "       [  9.98261923e-01,   1.73807678e-03],\n",
      "       [  9.98261923e-01,   1.73807678e-03],\n",
      "       [  9.90992434e-01,   9.00756574e-03]]), array([[  9.99447407e-01,   5.52592677e-04],\n",
      "       [  1.00000000e+00,   0.00000000e+00],\n",
      "       [  7.75207150e-01,   2.24792850e-01],\n",
      "       ..., \n",
      "       [  1.00000000e+00,   0.00000000e+00],\n",
      "       [  1.00000000e+00,   0.00000000e+00],\n",
      "       [  1.00000000e+00,   0.00000000e+00]]), array([[ 0.99587899,  0.00412101],\n",
      "       [ 0.96233871,  0.03766129],\n",
      "       [ 0.92456406,  0.07543594],\n",
      "       ..., \n",
      "       [ 0.996481  ,  0.003519  ],\n",
      "       [ 0.996481  ,  0.003519  ],\n",
      "       [ 0.97471171,  0.02528829]]), array([[  1.00000000e+00,   0.00000000e+00],\n",
      "       [  9.82972969e-01,   1.70270313e-02],\n",
      "       [  9.69705835e-01,   3.02941655e-02],\n",
      "       ..., \n",
      "       [  1.00000000e+00,   0.00000000e+00],\n",
      "       [  1.00000000e+00,   0.00000000e+00],\n",
      "       [  9.99178952e-01,   8.21048327e-04]]), array([[ 0.98794006,  0.01205994],\n",
      "       [ 0.92229591,  0.07770409],\n",
      "       [ 0.96194849,  0.03805151],\n",
      "       ..., \n",
      "       [ 0.92945067,  0.07054933],\n",
      "       [ 0.92945067,  0.07054933],\n",
      "       [ 1.        ,  0.        ]]), array([[ 1.        ,  0.        ],\n",
      "       [ 1.        ,  0.        ],\n",
      "       [ 0.98799891,  0.01200109],\n",
      "       ..., \n",
      "       [ 1.        ,  0.        ],\n",
      "       [ 1.        ,  0.        ],\n",
      "       [ 1.        ,  0.        ]]), array([[ 0.51658389,  0.48341611],\n",
      "       [ 0.43201339,  0.56798661],\n",
      "       [ 0.12407212,  0.87592788],\n",
      "       ..., \n",
      "       [ 0.60083853,  0.39916147],\n",
      "       [ 0.60083853,  0.39916147],\n",
      "       [ 0.58928409,  0.41071591]]), array([[ 1.        ,  0.        ],\n",
      "       [ 1.        ,  0.        ],\n",
      "       [ 0.99086078,  0.00913922],\n",
      "       ..., \n",
      "       [ 1.        ,  0.        ],\n",
      "       [ 1.        ,  0.        ],\n",
      "       [ 1.        ,  0.        ]]), array([[ 0.97218656,  0.02781344],\n",
      "       [ 0.93198794,  0.06801206],\n",
      "       [ 0.98305651,  0.01694349],\n",
      "       ..., \n",
      "       [ 0.97735395,  0.02264605],\n",
      "       [ 0.97735395,  0.02264605],\n",
      "       [ 0.95738733,  0.04261267]]), array([[ 0.79272947,  0.20727053],\n",
      "       [ 0.78752511,  0.21247489],\n",
      "       [ 0.7981778 ,  0.2018222 ],\n",
      "       ..., \n",
      "       [ 0.69569658,  0.30430342],\n",
      "       [ 0.69569658,  0.30430342],\n",
      "       [ 0.71698479,  0.28301521]]), array([[ 0.95173618,  0.04826382],\n",
      "       [ 0.91688113,  0.08311887],\n",
      "       [ 0.19421575,  0.80578425],\n",
      "       ..., \n",
      "       [ 0.93672842,  0.06327158],\n",
      "       [ 0.93672842,  0.06327158],\n",
      "       [ 0.94029831,  0.05970169]]), array([[ 0.96304442,  0.03695558],\n",
      "       [ 0.95008243,  0.04991757],\n",
      "       [ 0.96556033,  0.03443967],\n",
      "       ..., \n",
      "       [ 0.99145249,  0.00854751],\n",
      "       [ 0.99145249,  0.00854751],\n",
      "       [ 0.970558  ,  0.029442  ]]), array([[ 0.99536341,  0.00463659],\n",
      "       [ 0.98184412,  0.01815588],\n",
      "       [ 0.93634567,  0.06365433],\n",
      "       ..., \n",
      "       [ 0.99403212,  0.00596788],\n",
      "       [ 0.99403212,  0.00596788],\n",
      "       [ 0.96998564,  0.03001436]]), array([[ 0.92201865,  0.07798135],\n",
      "       [ 0.89510372,  0.10489628],\n",
      "       [ 0.95707753,  0.04292247],\n",
      "       ..., \n",
      "       [ 0.96932646,  0.03067354],\n",
      "       [ 0.96932646,  0.03067354],\n",
      "       [ 1.        ,  0.        ]]), array([[ 0.99268756,  0.00731244],\n",
      "       [ 0.97538569,  0.02461431],\n",
      "       [ 0.94597768,  0.05402232],\n",
      "       ..., \n",
      "       [ 0.99402169,  0.00597831],\n",
      "       [ 0.99402169,  0.00597831],\n",
      "       [ 0.99431752,  0.00568248]]), array([[ 1.        ,  0.        ],\n",
      "       [ 0.99490754,  0.00509246],\n",
      "       [ 0.99765183,  0.00234817],\n",
      "       ..., \n",
      "       [ 0.99791706,  0.00208294],\n",
      "       [ 0.99791706,  0.00208294],\n",
      "       [ 1.        ,  0.        ]]), array([[ 0.98620003,  0.01379997],\n",
      "       [ 0.9702824 ,  0.0297176 ],\n",
      "       [ 0.92559551,  0.07440449],\n",
      "       ..., \n",
      "       [ 0.99623866,  0.00376134],\n",
      "       [ 0.99623866,  0.00376134],\n",
      "       [ 1.        ,  0.        ]]), array([[ 1.        ,  0.        ],\n",
      "       [ 0.97505212,  0.02494788],\n",
      "       [ 0.98391266,  0.01608734],\n",
      "       ..., \n",
      "       [ 1.        ,  0.        ],\n",
      "       [ 1.        ,  0.        ],\n",
      "       [ 1.        ,  0.        ]]), array([[ 0.94851846,  0.05148154],\n",
      "       [ 0.96575006,  0.03424994],\n",
      "       [ 0.90008665,  0.09991335],\n",
      "       ..., \n",
      "       [ 0.93779737,  0.06220263],\n",
      "       [ 0.93779737,  0.06220263],\n",
      "       [ 0.98849524,  0.01150476]]), array([[  1.00000000e+00,   0.00000000e+00],\n",
      "       [  9.62958314e-01,   3.70416858e-02],\n",
      "       [  9.99526769e-01,   4.73230715e-04],\n",
      "       ..., \n",
      "       [  9.96746773e-01,   3.25322738e-03],\n",
      "       [  9.96746773e-01,   3.25322738e-03],\n",
      "       [  1.00000000e+00,   0.00000000e+00]]), array([[ 0.98672   ,  0.01328   ],\n",
      "       [ 0.93537331,  0.06462669],\n",
      "       [ 0.78802223,  0.21197777],\n",
      "       ..., \n",
      "       [ 0.21706027,  0.78293973],\n",
      "       [ 0.21706027,  0.78293973],\n",
      "       [ 0.17362992,  0.82637008]])]\n"
     ]
    }
   ],
   "source": [
    "print(predictions_soft)"
   ]
  },
  {
   "cell_type": "code",
   "execution_count": 17,
   "metadata": {
    "collapsed": false
   },
   "outputs": [
    {
     "name": "stdout",
     "output_type": "stream",
     "text": [
      "Recall for  #Animals 0.753094059406\n",
      "Threshold: 0.785655245695\n",
      "Recall for  #Biz Durable Asset 0.163451232583\n",
      "Threshold: 0.816439684928\n",
      "Recall for  #Eco-friendly 0.795343800758\n",
      "Threshold: 0.380035323244\n",
      "Recall for  #Elderly 0.00482879719052\n",
      "Threshold: 0.912540888232\n",
      "Recall for  #Fabrics 0.658473479948\n",
      "Threshold: 0.645381374726\n",
      "Recall for  #Female Education 0.324528301887\n",
      "Threshold: 0.929702142234\n",
      "Recall for  #First Loan 0.0895140664962\n",
      "Threshold: 0.722460268135\n",
      "Recall for  #Health and Sanitation 0.919592298981\n",
      "Threshold: 0.372989197749\n",
      "Recall for  #Job Creator 0.012729844413\n",
      "Threshold: 0.82675634534\n",
      "Recall for  #Orphan 0.25\n",
      "Threshold: 0.402826093032\n",
      "Recall for  #Parent 0.050113081776\n",
      "Threshold: 0.937206068292\n",
      "Recall for  #Refugee 0.00851063829787\n",
      "Threshold: 0.896162931656\n",
      "Recall for  #Repair Renew Replace 0.0955631399317\n",
      "Threshold: 0.880292568536\n",
      "Recall for  #Repeat Borrower 0.251161519541\n",
      "Threshold: 0.590667669341\n",
      "Recall for  #Schooling 0.578947368421\n",
      "Threshold: 0.581964935866\n",
      "Recall for  #Single 0.00337837837838\n",
      "Threshold: 0.977335275615\n",
      "Recall for  #Single Parent 0.0163043478261\n",
      "Threshold: 0.82395091691\n",
      "Recall for  #Supporting Family 0.00357781753131\n",
      "Threshold: 0.903586061182\n",
      "Recall for  #Sustainable Ag 0.018691588785\n",
      "Threshold: 0.650385213654\n",
      "Recall for  #Technology 0.78210806023\n",
      "Threshold: 0.427496402456\n",
      "Recall for  #Trees 0.0237580993521\n",
      "Threshold: 0.949196468512\n",
      "Recall for  #Unique 0.0292397660819\n",
      "Threshold: 0.727884376522\n",
      "Recall for  #Vegan 0.000827472072818\n",
      "Threshold: 0.980441164315\n",
      "Recall for  #Widowed 0.0753623188406\n",
      "Threshold: 0.870187288396\n",
      "Recall for  #Woman Owned Biz 0.297424576895\n",
      "Threshold: 0.920744151572\n",
      "max recall score 0.266959721433\n"
     ]
    }
   ],
   "source": [
    "# 99.9 - 0.135340928608\n",
    "# 99.5 - 0.187639548864\n",
    "# 99 - 0.23032003206\n",
    "# 98 - 0.285366691475\n",
    "# 97 - 0.33520352665\n",
    "# 96 - 0.40307436881\n",
    "# 95 - 0.4439228259\n",
    "# 94 - 0.488063204901\n",
    "# 93 - 0.513854697429\n",
    "# 92 - 0.541907597183\n",
    "# 91 - 0.56787084216\n",
    "# 90 - 0.585733096697\n",
    "# 89 - 0.604912119998\n",
    "# 88 - 0.622917501574\n",
    "# 87 - 0.634968798305\n",
    "# 86 - 0.652115417645\n",
    "# 85 - 0.66617049293\n",
    "# 84 - 0.680082441175\n",
    "# 83 - 0.695168031144\n",
    "# 82 - 0.712057021813\n",
    "# 81 - 0.724509074254\n",
    "# 80 - 0.736102364459\n",
    "threshold = 0.96\n",
    "real_threshold = math.sqrt(threshold*(1-threshold)/len(labels_test))*1.96+threshold\n",
    "print(\"max recall score\", max_recall_score(labels_test, predictions_soft, real_threshold))"
   ]
  },
  {
   "cell_type": "code",
   "execution_count": 15,
   "metadata": {
    "collapsed": false
   },
   "outputs": [
    {
     "name": "stdout",
     "output_type": "stream",
     "text": [
      "building tree 6 of 80building tree 5 of 80building tree 1 of 80building tree 3 of 80building tree 4 of 80building tree 2 of 80building tree 7 of 80building tree 8 of 80\n",
      "\n",
      "\n",
      "\n",
      "\n",
      "\n",
      "\n",
      "\n",
      "building tree 9 of 80\n",
      "building tree 10 of 80\n",
      "building tree 11 of 80\n",
      "building tree 12 of 80\n",
      "building tree 13 of 80\n",
      "building tree 14 of 80\n",
      "building tree 15 of 80\n",
      "building tree 16 of 80\n",
      "building tree 17 of 80\n",
      "building tree 18 of 80\n",
      "building tree 19 of 80\n",
      "building tree 20 of 80\n",
      "building tree 21 of 80\n",
      "building tree 22 of 80\n",
      "building tree 23 of 80\n"
     ]
    },
    {
     "name": "stderr",
     "output_type": "stream",
     "text": [
      "[Parallel(n_jobs=-1)]: Done  16 tasks      | elapsed: 19.9min\n"
     ]
    },
    {
     "name": "stdout",
     "output_type": "stream",
     "text": [
      "building tree 24 of 80\n",
      "building tree 25 of 80\n",
      "building tree 26 of 80\n",
      "building tree 27 of 80\n",
      "building tree 28 of 80\n",
      "building tree 29 of 80\n",
      "building tree 30 of 80\n",
      "building tree 31 of 80\n",
      "building tree 32 of 80\n",
      "building tree 33 of 80\n",
      "building tree 34 of 80\n",
      "building tree 35 of 80\n",
      "building tree 36 of 80\n",
      "building tree 37 of 80\n",
      "building tree 38 of 80\n",
      "building tree 39 of 80\n",
      "building tree 40 of 80\n",
      "building tree 41 of 80\n",
      "building tree 42 of 80\n",
      "building tree 43 of 80\n",
      "building tree 44 of 80\n",
      "building tree 45 of 80\n",
      "building tree 46 of 80\n",
      "building tree 47 of 80\n",
      "building tree 48 of 80\n",
      "building tree 49 of 80\n",
      "building tree 50 of 80\n",
      "building tree 51 of 80\n",
      "building tree 52 of 80\n",
      "building tree 53 of 80\n",
      "building tree 54 of 80\n",
      "building tree 55 of 80\n",
      "building tree 56 of 80\n",
      "building tree 57 of 80\n",
      "building tree 58 of 80\n",
      "building tree 59 of 80\n",
      "building tree 60 of 80\n",
      "building tree 61 of 80\n",
      "building tree 62 of 80\n",
      "building tree 63 of 80\n",
      "building tree 64 of 80\n",
      "building tree 65 of 80\n",
      "building tree 66 of 80\n",
      "building tree 67 of 80\n",
      "building tree 68 of 80\n",
      "building tree 69 of 80\n",
      "building tree 70 of 80\n",
      "building tree 71 of 80\n",
      "building tree 72 of 80\n",
      "building tree 73 of 80\n",
      "building tree 74 of 80\n",
      "building tree 75 of 80\n",
      "building tree 76 of 80\n",
      "building tree 77 of 80\n",
      "building tree 78 of 80\n",
      "building tree 79 of 80\n",
      "building tree 80 of 80\n"
     ]
    },
    {
     "name": "stderr",
     "output_type": "stream",
     "text": [
      "[Parallel(n_jobs=-1)]: Done  80 out of  80 | elapsed: 92.6min finished\n"
     ]
    },
    {
     "data": {
      "text/plain": [
       "RandomForestClassifier(bootstrap=True, class_weight='balanced',\n",
       "            criterion='gini', max_depth=None, max_features=0.5,\n",
       "            max_leaf_nodes=None, min_impurity_split=1e-06,\n",
       "            min_samples_leaf=1, min_samples_split=16,\n",
       "            min_weight_fraction_leaf=0.0, n_estimators=80, n_jobs=-1,\n",
       "            oob_score=False, random_state=None, verbose=3,\n",
       "            warm_start=False)"
      ]
     },
     "execution_count": 15,
     "metadata": {},
     "output_type": "execute_result"
    }
   ],
   "source": [
    "clf.fit(combined, labels)"
   ]
  },
  {
   "cell_type": "code",
   "execution_count": 16,
   "metadata": {
    "collapsed": true
   },
   "outputs": [],
   "source": [
    "pickle.dump(clf, open('clf.pkl', 'wb'))"
   ]
  },
  {
   "cell_type": "code",
   "execution_count": null,
   "metadata": {
    "collapsed": true
   },
   "outputs": [],
   "source": []
  }
 ],
 "metadata": {
  "kernelspec": {
   "display_name": "Python 3",
   "language": "python",
   "name": "python3"
  },
  "language_info": {
   "codemirror_mode": {
    "name": "ipython",
    "version": 3
   },
   "file_extension": ".py",
   "mimetype": "text/x-python",
   "name": "python",
   "nbconvert_exporter": "python",
   "pygments_lexer": "ipython3",
   "version": "3.6.0"
  }
 },
 "nbformat": 4,
 "nbformat_minor": 2
}
