{
 "cells": [
  {
   "cell_type": "code",
   "execution_count": 1,
   "metadata": {
    "collapsed": true
   },
   "outputs": [],
   "source": [
    "import csv\n",
    "from datetime import datetime\n",
    "import psycopg2\n",
    "import numpy as np\n",
    "import string\n",
    "from tqdm import tqdm\n",
    "from scipy.sparse import csr_matrix\n",
    "from sklearn.feature_extraction import DictVectorizer\n",
    "import pandas as pd\n",
    "import pickle\n",
    "from sklearn.feature_extraction.text import TfidfVectorizer"
   ]
  },
  {
   "cell_type": "code",
   "execution_count": 2,
   "metadata": {
    "collapsed": true
   },
   "outputs": [],
   "source": [
    "start_time = datetime(2016, 10, 16)\n",
    "def process_csv():\n",
    "    output = []\n",
    "    reader = csv.DictReader(open(\"loans_for_tagging.csv\"))\n",
    "    for row in reader:\n",
    "        assigned = row[\"assigned_on\"]\n",
    "        if assigned != \"NULL\":\n",
    "            time = datetime.strptime(assigned, \"%Y-%m-%d %H:%M:%S\")\n",
    "            if time > start_time:\n",
    "                output.append(int(row[\"loan_id\"]))\n",
    "    return output\n",
    "result = process_csv()"
   ]
  },
  {
   "cell_type": "code",
   "execution_count": 3,
   "metadata": {},
   "outputs": [
    {
     "name": "stdout",
     "output_type": "stream",
     "text": [
      "91380\n"
     ]
    }
   ],
   "source": [
    "print(len(result))"
   ]
  },
  {
   "cell_type": "code",
   "execution_count": 4,
   "metadata": {
    "collapsed": true
   },
   "outputs": [],
   "source": [
    "conn = psycopg2.connect(\"dbname=autotag user=postgres host='localhost' password='\" + os.environ[\"POSTGRES_PASSWORD\"] + \"'\")\n",
    "cur = conn.cursor()"
   ]
  },
  {
   "cell_type": "code",
   "execution_count": 5,
   "metadata": {},
   "outputs": [
    {
     "name": "stderr",
     "output_type": "stream",
     "text": [
      "100%|██████████| 91380/91380 [06:01<00:00, 252.96it/s] \n"
     ]
    }
   ],
   "source": [
    "columns = [\"id\",\"name\",\"original_language\",\"original_description\",\"translated_description\",\n",
    "           \"funded_amount\",\"loan_amount\",\"status\",\"image_id\",\"video_id\",\"activity\",\"sector\",\n",
    "           \"use\",\"country_code\",\"country_name\",\"town\",\"currency_policy\",\"currency_exchange_coverage_rate\",\n",
    "           \"currency\",\"partner_id\",\"posted_time\",\"planned_expiration_time\",\"disbursed_time\",\"funded_time\",\n",
    "           \"term_in_months\",\"lender_count\",\"journal_entries_count\",\"bulk_journal_entries_count\",\"tags\",\n",
    "           \"borrower_names\",\"borrower_genders\",\"borrower_pictured\",\"repayment_interval\",\"distribution_model\"]\n",
    "\n",
    "categorical = [\"activity\", \"sector\", \"country_code\", \"town\", \"partner_id\", \"repayment_interval\"]\n",
    "numeric = [\"loan_amount\", \"term_in_months\"]\n",
    "\n",
    "final_data = {\n",
    "    \"categorical\": [],\n",
    "    \"numeric\": [],\n",
    "    \"use\": [],\n",
    "    \"description\": [],\n",
    "    \"tags\": [],\n",
    "    \"ids\": []\n",
    "}\n",
    "\n",
    "for loan_id in tqdm(result):\n",
    "    cur.execute(\"SELECT * FROM autotag WHERE id = %s\", (loan_id,))\n",
    "    raw = cur.fetchone()\n",
    "    if raw is None:\n",
    "        continue\n",
    "    \n",
    "    categorical_data = []\n",
    "    for feature in categorical:\n",
    "        categorical_data.append(str(raw[columns.index(feature)]))\n",
    "    \n",
    "    numeric_data = []\n",
    "    for feature in numeric:\n",
    "        numeric_data.append(float(raw[columns.index(feature)]))\n",
    "    \n",
    "    genders = raw[columns.index(\"borrower_genders\")]\n",
    "    if genders is not None:\n",
    "        genders = genders.split(\", \")\n",
    "        female = 0.\n",
    "        for gender in genders:\n",
    "            if gender == \"female\":\n",
    "                female += 1\n",
    "        numeric_data.append(female/len(genders))\n",
    "    else:\n",
    "        continue\n",
    "        \n",
    "    use = raw[columns.index(\"use\")]\n",
    "    if use is None:\n",
    "        continue\n",
    "    \n",
    "    description = raw[columns.index(\"translated_description\")]\n",
    "    if description is None:\n",
    "        continue\n",
    "    \n",
    "    tags = raw[columns.index(\"tags\")]\n",
    "    final_tags = []\n",
    "    if tags is not None:\n",
    "        for tag in tags.split(\", \"):\n",
    "            if tag[0] == \"#\":\n",
    "                final_tags.append(tag)\n",
    "        \n",
    "    \n",
    "    final_data[\"categorical\"].append(categorical_data)\n",
    "    final_data[\"numeric\"].append(numeric_data)\n",
    "    final_data[\"use\"].append(use)\n",
    "    final_data[\"description\"].append(description)\n",
    "    final_data[\"ids\"].append(raw[0])\n",
    "    final_data[\"tags\"].append(final_tags)"
   ]
  },
  {
   "cell_type": "code",
   "execution_count": 6,
   "metadata": {
    "collapsed": true
   },
   "outputs": [],
   "source": [
    "for key in final_data:\n",
    "    final_data[key] = np.array(final_data[key])"
   ]
  },
  {
   "cell_type": "code",
   "execution_count": 7,
   "metadata": {},
   "outputs": [
    {
     "name": "stdout",
     "output_type": "stream",
     "text": [
      "[list(['#Supporting Family', '#Repeat Borrower'])\n",
      " list(['#Eco-friendly', '#Biz Durable Asset', '#Technology', '#Schooling', '#Parent', '#Woman Owned Biz'])\n",
      " list(['#Eco-friendly', '#Schooling', '#Technology', '#Biz Durable Asset', '#Parent', '#Woman Owned Biz'])\n",
      " ..., list([]) list([]) list([])]\n"
     ]
    }
   ],
   "source": [
    "print(final_data[\"tags\"])"
   ]
  },
  {
   "cell_type": "code",
   "execution_count": 10,
   "metadata": {
    "collapsed": true
   },
   "outputs": [],
   "source": [
    "# def scan_text(text_list):\n",
    "#     words = set()\n",
    "#     for text in text_list:\n",
    "#         current_word = \"\"\n",
    "#         for character in text:\n",
    "#             if character in string.whitespace or character in string.punctuation:\n",
    "#                 words.add(current_word)\n",
    "#                 current_word = \"\"\n",
    "#                 if character in string.punctuation:\n",
    "#                     words.add(character)\n",
    "#             else:                \n",
    "#                 current_word += character.lower()\n",
    "#     words.add(current_word)\n",
    "#     return list(words)\n",
    "            \n",
    "# use_words = scan_text(final_data[\"use\"].flatten())\n",
    "# description_words = scan_text(final_data[\"description\"].flatten())"
   ]
  },
  {
   "cell_type": "code",
   "execution_count": 11,
   "metadata": {
    "collapsed": true
   },
   "outputs": [],
   "source": [
    "# def vectorize(full_text, word_list, max_length):\n",
    "#     output = []\n",
    "#     for text in tqdm(full_text):\n",
    "#         vectorized = []\n",
    "#         current_word = \"\"\n",
    "#         for character in text:\n",
    "#             if character in string.whitespace or character in string.punctuation:\n",
    "#                 try:\n",
    "#                     index = word_list.index(current_word)\n",
    "#                 except ValueError:\n",
    "#                     index = -1\n",
    "#                 vectorized.append(index+1)\n",
    "#                 current_word = \"\"\n",
    "#                 if character in string.punctuation:\n",
    "#                     try:\n",
    "#                         index = word_list.index(character)\n",
    "#                     except ValueError:\n",
    "#                         index = -1\n",
    "#                     vectorized.append(index+1)\n",
    "#             else:\n",
    "#                 current_word += character.lower()\n",
    "                \n",
    "#         try:\n",
    "#             index = word_list.index(current_word)\n",
    "#         except ValueError:\n",
    "#             index = -1\n",
    "#         vectorized.append(index+1)\n",
    "        \n",
    "#         if len(vectorized) > max_length:\n",
    "#             print(len(vectorized))\n",
    "#         for i in range(len(vectorized), max_length):\n",
    "#             vectorized.append(0)\n",
    "#         output.append(np.array(vectorized))\n",
    "#     return np.array(output)"
   ]
  },
  {
   "cell_type": "code",
   "execution_count": 8,
   "metadata": {
    "collapsed": true
   },
   "outputs": [],
   "source": [
    "processed_data = {}"
   ]
  },
  {
   "cell_type": "code",
   "execution_count": 41,
   "metadata": {},
   "outputs": [
    {
     "name": "stdout",
     "output_type": "stream",
     "text": [
      "(76953, 62691)\n"
     ]
    }
   ],
   "source": [
    "use_vect = TfidfVectorizer(ngram_range=(1,10000), stop_words='english', min_df=3)\n",
    "processed_data[\"use\"] = use_vect.fit_transform(final_data[\"use\"])\n",
    "print(processed_data[\"use\"].shape)"
   ]
  },
  {
   "cell_type": "code",
   "execution_count": null,
   "metadata": {},
   "outputs": [],
   "source": [
    "description_vect = TfidfVectorizer(ngram_range=(1,4), stop_words='english', min_df=3)\n",
    "processed_data[\"description\"] = description_vect.fit_transform(final_data[\"description\"])\n",
    "print(processed_data[\"description\"].shape)\n",
    "# 16.6"
   ]
  },
  {
   "cell_type": "code",
   "execution_count": 32,
   "metadata": {
    "collapsed": true
   },
   "outputs": [],
   "source": [
    "categorical_dictionaries = []\n",
    "for record in final_data[\"categorical\"]:\n",
    "    dictionary = {}\n",
    "    for i, feature in enumerate(record):\n",
    "        dictionary[i] = feature\n",
    "    categorical_dictionaries.append(dictionary)\n",
    "vect = DictVectorizer()\n",
    "categorical = vect.fit_transform(categorical_dictionaries).toarray()"
   ]
  },
  {
   "cell_type": "code",
   "execution_count": 33,
   "metadata": {
    "collapsed": true
   },
   "outputs": [],
   "source": [
    "processed_data[\"base\"] = np.hstack((categorical, final_data[\"numeric\"]))"
   ]
  },
  {
   "cell_type": "code",
   "execution_count": 34,
   "metadata": {
    "collapsed": true
   },
   "outputs": [],
   "source": [
    "tags = final_data[\"tags\"]\n",
    "possible_tags = set()\n",
    "for tag_list in tags:\n",
    "    for tag in tag_list:\n",
    "        possible_tags.add(tag)\n",
    "possible_tags = list(possible_tags)\n",
    "processed_tags = []\n",
    "for tag_list in tags:\n",
    "    empty = [0 for i in range(len(possible_tags))]\n",
    "    for tag in tag_list:\n",
    "        empty[possible_tags.index(tag)] = 1\n",
    "    processed_tags.append(empty)\n",
    "processed_tags = np.array(processed_tags)"
   ]
  },
  {
   "cell_type": "code",
   "execution_count": 35,
   "metadata": {},
   "outputs": [
    {
     "name": "stdout",
     "output_type": "stream",
     "text": [
      "[[0 0 0 ..., 0 0 0]\n",
      " [0 0 0 ..., 0 1 0]\n",
      " [0 0 0 ..., 0 1 0]\n",
      " ..., \n",
      " [0 0 0 ..., 0 0 0]\n",
      " [0 0 0 ..., 0 0 0]\n",
      " [0 0 0 ..., 0 0 0]]\n"
     ]
    }
   ],
   "source": [
    "print(processed_tags)"
   ]
  },
  {
   "cell_type": "code",
   "execution_count": 36,
   "metadata": {
    "collapsed": true
   },
   "outputs": [],
   "source": [
    "processed_data[\"tags\"] = processed_tags"
   ]
  },
  {
   "cell_type": "code",
   "execution_count": 37,
   "metadata": {
    "scrolled": true
   },
   "outputs": [
    {
     "name": "stdout",
     "output_type": "stream",
     "text": [
      "{'use': <76953x645578 sparse matrix of type '<class 'numpy.float64'>'\n",
      "\twith 1963500 stored elements in Compressed Sparse Row format>, 'description': <76953x11158133 sparse matrix of type '<class 'numpy.float64'>'\n",
      "\twith 27016079 stored elements in Compressed Sparse Row format>, 'base': array([[  0.00000000e+00,   0.00000000e+00,   0.00000000e+00, ...,\n",
      "          5.00000000e+03,   8.00000000e+00,   0.00000000e+00],\n",
      "       [  0.00000000e+00,   0.00000000e+00,   0.00000000e+00, ...,\n",
      "          2.50000000e+02,   3.80000000e+01,   1.00000000e+00],\n",
      "       [  0.00000000e+00,   0.00000000e+00,   0.00000000e+00, ...,\n",
      "          2.50000000e+02,   3.80000000e+01,   1.00000000e+00],\n",
      "       ..., \n",
      "       [  0.00000000e+00,   0.00000000e+00,   0.00000000e+00, ...,\n",
      "          2.50000000e+01,   1.30000000e+01,   1.00000000e+00],\n",
      "       [  0.00000000e+00,   0.00000000e+00,   0.00000000e+00, ...,\n",
      "          2.50000000e+01,   1.30000000e+01,   1.00000000e+00],\n",
      "       [  0.00000000e+00,   0.00000000e+00,   0.00000000e+00, ...,\n",
      "          2.50000000e+01,   1.30000000e+01,   1.00000000e+00]]), 'tags': array([[0, 0, 0, ..., 0, 0, 0],\n",
      "       [0, 0, 0, ..., 0, 1, 0],\n",
      "       [0, 0, 0, ..., 0, 1, 0],\n",
      "       ..., \n",
      "       [0, 0, 0, ..., 0, 0, 0],\n",
      "       [0, 0, 0, ..., 0, 0, 0],\n",
      "       [0, 0, 0, ..., 0, 0, 0]])}\n"
     ]
    }
   ],
   "source": [
    "print(processed_data)"
   ]
  },
  {
   "cell_type": "code",
   "execution_count": 39,
   "metadata": {
    "collapsed": true
   },
   "outputs": [],
   "source": [
    "pickle.dump(processed_data, open(\"processed_data.pkl\", \"wb\"))\n",
    "# pickle.dump(use_words, open(\"use_words.pkl\", \"wb\"))\n",
    "# pickle.dump(description_words, open(\"description_words.pkl\", \"wb\"))\n",
    "pickle.dump(vect, open(\"categorical_vect.pkl\", \"wb\"))\n",
    "pickle.dump(possible_tags, open(\"possible_tags.pkl\", \"wb\"))\n",
    "pickle.dump(description_vect, open(\"description_vect.pkl\", \"wb\"))\n",
    "pickle.dump(use_vect, open(\"use_vect.pkl\", \"wb\"))"
   ]
  },
  {
   "cell_type": "code",
   "execution_count": null,
   "metadata": {
    "collapsed": true
   },
   "outputs": [],
   "source": []
  }
 ],
 "metadata": {
  "kernelspec": {
   "display_name": "Python 3",
   "language": "python",
   "name": "python3"
  },
  "language_info": {
   "codemirror_mode": {
    "name": "ipython",
    "version": 3
   },
   "file_extension": ".py",
   "mimetype": "text/x-python",
   "name": "python",
   "nbconvert_exporter": "python",
   "pygments_lexer": "ipython3",
   "version": "3.6.0"
  }
 },
 "nbformat": 4,
 "nbformat_minor": 2
}
